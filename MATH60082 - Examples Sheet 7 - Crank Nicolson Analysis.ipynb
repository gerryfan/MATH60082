{
 "cells": [
  {
   "cell_type": "code",
   "execution_count": 1,
   "metadata": {},
   "outputs": [],
   "source": [
    "#include \"math60082_cn.hpp\"\n",
    "using namespace std;"
   ]
  },
  {
   "cell_type": "code",
   "execution_count": 2,
   "metadata": {},
   "outputs": [],
   "source": [
    "// declare and initialise Black Scholes parameters\n",
    "double S0,X,T,r,sigma;\n",
    "// declare and initialise grid paramaters \n",
    "int iMax,jMax;\n",
    "// declare and initialise local variables (ds,dt)\n",
    "double SMax;"
   ]
  },
  {
   "cell_type": "code",
   "execution_count": 3,
   "metadata": {},
   "outputs": [],
   "source": [
    "// initialise Black Scholes parameters\n",
    "S0=1.973;X=2.;T=1.;r=0.05;sigma=0.4;\n",
    "// initialise grid paramaters \n",
    "iMax=40;jMax=40;SMax=2*X;"
   ]
  },
  {
   "cell_type": "code",
   "execution_count": 4,
   "metadata": {},
   "outputs": [
    {
     "name": "stdout",
     "output_type": "stream",
     "text": [
      "0.273017 0.273152"
     ]
    }
   ],
   "source": [
    "cout << MATH60082::europeanPut_CN(S0,X,T,r,sigma,iMax,jMax,SMax,1,1.e-6,1000);\n",
    "cout << \" \" << MATH60082::europeanPut_exact(S0,X,T,r,sigma);"
   ]
  },
  {
   "cell_type": "markdown",
   "metadata": {},
   "source": [
    "Now lets run for some different values of iMax and jMax..."
   ]
  },
  {
   "cell_type": "code",
   "execution_count": 5,
   "metadata": {},
   "outputs": [
    {
     "name": "stdout",
     "output_type": "stream",
     "text": [
      " n    | V_cn     | V_exact  | error   \n",
      "20 | 0.271973 | 0.273152 | -0.00117863\n",
      "40 | 0.273017 | 0.273152 | -0.000134771\n",
      "80 | 0.273116 | 0.273152 | -3.58068e-05\n",
      "160 | 0.273085 | 0.273152 | -6.66597e-05\n"
     ]
    }
   ],
   "source": [
    "cout << \" n    | V_cn     | V_exact  | error   \\n\";\n",
    "for(int k=1;k<=4;k++)\n",
    "{\n",
    "    int n=10*pow(2,k);\n",
    "    iMax = n;\n",
    "    jMax = n;\n",
    "    double value_exact = MATH60082::europeanPut_exact(S0,X,T,r,sigma);\n",
    "    double value_cn = MATH60082::europeanPut_CN(S0,X,T,r,sigma,iMax,jMax,SMax,1,1.e-6,1000);\n",
    "    cout << n << \" | \" << value_cn;\n",
    "    cout << \" | \" << value_exact << \" | \" ;\n",
    "    cout << value_cn - value_exact << \"\\n\";\n",
    "}"
   ]
  },
  {
   "cell_type": "code",
   "execution_count": 6,
   "metadata": {},
   "outputs": [
    {
     "name": "stdout",
     "output_type": "stream",
     "text": [
      " n    | V_cn     | V_exact  | error   \n",
      "20 | 0.26121 | 0.273152 | -0.0119412\n",
      "40 | 0.271037 | 0.273152 | -0.00211423\n",
      "80 | 0.2729 | 0.273152 | -0.000251823\n",
      "160 | 0.273158 | 0.273152 | 6.52624e-06\n"
     ]
    }
   ],
   "source": [
    "cout << \" n    | V_cn     | V_exact  | error   \\n\";\n",
    "for(int k=1;k<=4;k++)\n",
    "{\n",
    "    int n=10*pow(2,k);\n",
    "    iMax = n;\n",
    "    jMax = n;\n",
    "    double value_exact = MATH60082::europeanPut_exact(S0,X,T,r,sigma);\n",
    "    double value_cn = MATH60082::europeanPut_CN(S0,X,T,r,sigma,iMax,jMax,5*X,1.2,1.e-6,1000);\n",
    "    cout << n << \" | \" << value_cn;\n",
    "    cout << \" | \" << value_exact << \" | \" ;\n",
    "    cout << value_cn - value_exact << \"\\n\";\n",
    "}"
   ]
  },
  {
   "cell_type": "code",
   "execution_count": 7,
   "metadata": {},
   "outputs": [
    {
     "name": "stdout",
     "output_type": "stream",
     "text": [
      " n    | V_cn     | V_exact  | error   \n",
      "20 | 0.26121 | 0.273152 | -0.0119412\n",
      "40 | 0.271037 | 0.273152 | -0.00211422\n",
      "80 | 0.2729 | 0.273152 | -0.000251822\n",
      "160 | 0.273158 | 0.273152 | 6.52653e-06\n",
      "320 | 0.273123 | 0.273152 | -2.89602e-05\n"
     ]
    }
   ],
   "source": [
    "cout << \" n    | V_cn     | V_exact  | error   \\n\";\n",
    "for(int k=1;k<=5;k++)\n",
    "{\n",
    "    int n=10*pow(2,k);\n",
    "    iMax = n;\n",
    "    jMax = n;\n",
    "    double value_exact = MATH60082::europeanPut_exact(S0,X,T,r,sigma);\n",
    "    double value_cn = MATH60082::europeanPut_CN(S0,X,T,r,sigma,iMax,jMax,5*X,1.4,1.e-8,1000);\n",
    "    cout << n << \" | \" << value_cn;\n",
    "    cout << \" | \" << value_exact << \" | \" ;\n",
    "    cout << value_cn - value_exact << \"\\n\";\n",
    "}"
   ]
  },
  {
   "cell_type": "code",
   "execution_count": 8,
   "metadata": {},
   "outputs": [
    {
     "name": "stdout",
     "output_type": "stream",
     "text": [
      " n    | V_cn     | V_exact  | error   \n",
      "20 | 0.247269 | 0.262918 | -0.0156485\n",
      "40 | 0.259262 | 0.262918 | -0.00365595\n",
      "80 | 0.262016 | 0.262918 | -0.000902232\n",
      "160 | 0.262693 | 0.262918 | -0.00022486\n",
      "320 | 0.262862 | 0.262918 | -5.61718e-05\n"
     ]
    }
   ],
   "source": [
    "S0 = X;\n",
    "cout << \" n    | V_cn     | V_exact  | error   \\n\";\n",
    "for(int k=1;k<=5;k++)\n",
    "{\n",
    "    int n=10*pow(2,k);\n",
    "    iMax = n;\n",
    "    jMax = n;\n",
    "    double value_exact = MATH60082::europeanPut_exact(S0,X,T,r,sigma);\n",
    "    double value_cn = MATH60082::europeanPut_CN(S0,X,T,r,sigma,iMax,jMax,5*X,1.2,1.e-8,1000);\n",
    "    cout << n << \" | \" << value_cn;\n",
    "    cout << \" | \" << value_exact << \" | \" ;\n",
    "    cout << value_cn - value_exact << \"\\n\";\n",
    "}"
   ]
  },
  {
   "cell_type": "markdown",
   "metadata": {},
   "source": [
    "In fact this gives very good results as we can very easily extrpolate these values. However, it also implies that the linear interpolation we use in the function is __not good enough__ for extrapolation of values. We need our interpolation to several orders more accurate than the accuracy of the scheme. I recommend using at least cubic interpolation (left as an exercise). To examine how good this method can be if we have accurate results and stable convergence, consider the results above. Let a new estimate of the value be found using the formula (from Richardson extrapolation) \n",
    "$$\n",
    "V_\\text{extrap} = \\frac{4V_{2n} - V_n}{3}\n",
    "$$"
   ]
  },
  {
   "cell_type": "code",
   "execution_count": 9,
   "metadata": {},
   "outputs": [],
   "source": [
    "double valueOld=0;\n",
    "double valueOlder=0;"
   ]
  },
  {
   "cell_type": "code",
   "execution_count": 10,
   "metadata": {},
   "outputs": [
    {
     "name": "stdout",
     "output_type": "stream",
     "text": [
      " n    | V_cn     | V_exact  | error  | V_extrap | error \n",
      "20 | 0.247269 | 0.262918 | -0.0156485 | 0.329693 | 0.0667747\n",
      "40 | 0.259262 | 0.262918 | -0.00365595 | 0.263259 | 0.000341548\n",
      "80 | 0.262016 | 0.262918 | -0.000902232 | 0.262934 | 1.56755e-05\n",
      "160 | 0.262693 | 0.262918 | -0.00022486 | 0.262919 | 9.31133e-07\n",
      "320 | 0.262862 | 0.262918 | -5.61718e-05 | 0.262918 | 5.74938e-08\n"
     ]
    }
   ],
   "source": [
    "S0 = X;\n",
    "cout << \" n    | V_cn     | V_exact  | error  | V_extrap | error \\n\";\n",
    "for(int k=1;k<=5;k++)\n",
    "{\n",
    "    int n=10*pow(2,k);\n",
    "    iMax = n;\n",
    "    jMax = n;\n",
    "    double value_exact = MATH60082::europeanPut_exact(S0,X,T,r,sigma);\n",
    "    double value_cn = MATH60082::europeanPut_CN(S0,X,T,r,sigma,iMax,jMax,5*X,1.2,1.e-8,1000);\n",
    "    double value_extrap = (4.*value_cn - valueOld)/3.;\n",
    "    cout << n << \" | \" << value_cn;\n",
    "    cout << \" | \" << value_exact << \" | \" ;\n",
    "    cout << value_cn - value_exact << \" | \";\n",
    "    cout << value_extrap << \" | \";\n",
    "    cout << value_extrap - value_exact << \"\\n\";\n",
    "    valueOld = value_cn;\n",
    "}"
   ]
  },
  {
   "cell_type": "markdown",
   "metadata": {},
   "source": [
    "Again note that you are limitted by the biggest errors in your code. In this case we have errors from\n",
    "- truncation errors in the grid (choice of `SMax`)\n",
    "- finite difference approximations, whi are $O\\big( (\\Delta t)^2,(\\Delta S)^2 \\big)$\n",
    "- interpolation errors (zero since $S_0 = X$ is a grid point)\n",
    "- SOR matrix solve (bounded by `tol=1.e-8`)\n",
    "\n",
    "so once we get near the tolerance of the matrix solver we shouldn't expect our method to carry on converging to the true result. To get more accurate results you need to be reducing _all_ of those errors at the same time, and reducing errors will require more computational work. Just concentrating on one won't give the desired result. Also note that a balance is required, there is no point in solving the matrix to $10^{-16}$ if we are only solving with $\\Delta t = 10^{-2}$."
   ]
  }
 ],
 "metadata": {
  "kernelspec": {
   "display_name": "C++14",
   "language": "C++14",
   "name": "xeus-cling-cpp14"
  },
  "language_info": {
   "codemirror_mode": "text/x-c++src",
   "file_extension": ".cpp",
   "mimetype": "text/x-c++src",
   "name": "c++",
   "version": "14"
  }
 },
 "nbformat": 4,
 "nbformat_minor": 2
}
