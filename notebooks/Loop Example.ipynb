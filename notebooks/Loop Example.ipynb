{
 "cells": [
  {
   "cell_type": "markdown",
   "metadata": {},
   "source": [
    "Assume we are calculating \n",
    " $$\n",
    " I = \\sum_{i=0}^{10} f(x_i), \\quad \\quad x_i = i\\times 0.1  \n",
    " $$\n",
    " so $x$ varies in steps of 0.1 over the interval $x\\in[0,1]$. Here we define \n",
    " $$\n",
    " f(x) = x^2 .\n",
    " $$"
   ]
  },
  {
   "cell_type": "markdown",
   "metadata": {},
   "source": [
    "And we input the code:-"
   ]
  },
  {
   "cell_type": "code",
   "execution_count": 1,
   "metadata": {},
   "outputs": [],
   "source": [
    "#include <iostream>\n",
    "#include <cmath>"
   ]
  },
  {
   "cell_type": "code",
   "execution_count": 2,
   "metadata": {},
   "outputs": [],
   "source": [
    "double f(double x)\n",
    "{\n",
    "    return x*x;\n",
    "}"
   ]
  },
  {
   "cell_type": "code",
   "execution_count": 6,
   "metadata": {},
   "outputs": [
    {
     "name": "stdout",
     "output_type": "stream",
     "text": [
      "0 0\n",
      "0.1 0.01\n",
      "0.2 0.05\n",
      "0.3 0.14\n",
      "0.4 0.3\n",
      "0.5 0.55\n",
      "0.6 0.91\n",
      "0.7 1.4\n",
      "0.8 2.04\n",
      "0.9 2.85\n",
      "1 3.85\n"
     ]
    }
   ],
   "source": [
    "{\n",
    "    double x=0.;\n",
    "    double sum = 0.;\n",
    "    while(x<=1.)\n",
    "    {\n",
    "        sum = sum + f(x);\n",
    "        std::cout << x << \" \" << sum << \"\\n\";\n",
    "        x = x + 0.1;\n",
    "    }\n",
    "}"
   ]
  },
  {
   "cell_type": "code",
   "execution_count": null,
   "metadata": {},
   "outputs": [],
   "source": []
  }
 ],
 "metadata": {
  "kernelspec": {
   "display_name": "C++11",
   "language": "C++11",
   "name": "xeus-cling-cpp11"
  },
  "language_info": {
   "codemirror_mode": "text/x-c++src",
   "file_extension": ".cpp",
   "mimetype": "text/x-c++src",
   "name": "c++",
   "version": "11"
  }
 },
 "nbformat": 4,
 "nbformat_minor": 2
}
