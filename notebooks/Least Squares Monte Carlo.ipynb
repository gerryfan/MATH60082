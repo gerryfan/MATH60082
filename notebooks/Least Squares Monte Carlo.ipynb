{
 "cells": [
  {
   "cell_type": "code",
   "execution_count": 1,
   "metadata": {},
   "outputs": [],
   "source": [
    "#include \"../include/math60082_leastSquaresFit.hpp\"\n",
    "#include <vector>\n",
    "#include <iostream>\n",
    "#include <random>"
   ]
  },
  {
   "cell_type": "code",
   "execution_count": 2,
   "metadata": {},
   "outputs": [],
   "source": [
    ".L boost_system"
   ]
  },
  {
   "cell_type": "code",
   "execution_count": 3,
   "metadata": {},
   "outputs": [],
   "source": [
    ".L ../lib/libmath60082.so"
   ]
  },
  {
   "cell_type": "code",
   "execution_count": 4,
   "metadata": {},
   "outputs": [],
   "source": [
    ".L libgsl.so"
   ]
  },
  {
   "cell_type": "code",
   "execution_count": 5,
   "metadata": {},
   "outputs": [],
   "source": [
    ".L libcblas.so"
   ]
  },
  {
   "cell_type": "code",
   "execution_count": 6,
   "metadata": {},
   "outputs": [],
   "source": [
    "#include \"math60082_gnuplot_image.hpp\""
   ]
  },
  {
   "cell_type": "code",
   "execution_count": 7,
   "metadata": {},
   "outputs": [],
   "source": [
    "// number of exercise dates\n",
    "int timeSteps=3;\n",
    "// some parameters in the problem\n",
    "double maturity=3.,interestRate=0.06,strikePrice=1.1;\n",
    "// local parameters\n",
    "double dt=maturity/timeSteps;\n",
    "// number of paths n\n",
    "int n=8;\n",
    "    "
   ]
  },
  {
   "cell_type": "code",
   "execution_count": 8,
   "metadata": {},
   "outputs": [],
   "source": [
    "// the paths as given in Longstaff & Schartz (2001)\n",
    "std::vector< std::vector<double> > paths = {\n",
    "        { 1. , 1.09 , 1.08 , 1.34 } ,\n",
    "        { 1. , 1.16 , 1.26 , 1.54 } ,\n",
    "        { 1. , 1.22 , 1.07 , 1.03 } ,\n",
    "        { 1. , 0.93 , 0.97 , 0.92 } ,\n",
    "        { 1. , 1.11 , 1.56 , 1.52 } ,\n",
    "        { 1. , 0.76 , 0.77 , 0.90 } ,\n",
    "        { 1. , 0.92 , 0.84 , 1.01 } ,\n",
    "        { 1. , 0.88 , 1.22 , 1.34 } ,\n",
    "    };"
   ]
  },
  {
   "cell_type": "code",
   "execution_count": 9,
   "metadata": {},
   "outputs": [
    {
     "data": {
      "image/png": "[encoded data removed]"
     },
     "execution_count": 9,
     "metadata": {},
     "output_type": "execute_result"
    }
   ],
   "source": [
    "std::vector<double> t = { 0., 1. ,2. ,3.};\n",
    "    // plot the figure\n",
    "{\n",
    "    // put the plot in figure1\n",
    "    GPLT::figure = GPLT::G.plotData(t,paths,0);\n",
    "}\n",
    "// show figure\n",
    "GPLT::figure"
   ]
  },
  {
   "cell_type": "code",
   "execution_count": 10,
   "metadata": {},
   "outputs": [],
   "source": [
    "// all paths initially exected to be exercised at expiry\n",
    "std::vector<int> exercisePeriod = std::vector<int>(n,timeSteps);\n",
    "    "
   ]
  },
  {
   "cell_type": "code",
   "execution_count": 11,
   "metadata": {},
   "outputs": [],
   "source": [
    "      // create an empty set of data points\n",
    "        std::vector<MATH60082::DataPoint> data;\n",
    "        data.reserve(n);\n",
    "        // go through each path, check if it is in the money\n",
    "        // if it is add it as a datapoint with appropriate payoff\n",
    "        for(int i=0;i<n;i++)\n",
    "        {\n",
    "            if(paths[i][2]<strikePrice)\n",
    "            {\n",
    "                data.push_back({paths[i][2],std::max(strikePrice - paths[i][3],0.)*exp(-interestRate*dt),1.});\n",
    "            }\n",
    "        }"
   ]
  },
  {
   "cell_type": "code",
   "execution_count": 12,
   "metadata": {},
   "outputs": [
    {
     "name": "stdout",
     "output_type": "stream",
     "text": [
      "# Points for fitting\n",
      " x_i  y_i \n",
      "1.08 0\n",
      "1.07 0.0659235\n",
      "0.97 0.169518\n",
      "0.77 0.188353\n",
      "0.84 0.0847588\n"
     ]
    }
   ],
   "source": [
    "\n",
    "        std::cout << \"# Points for fitting\\n x_i  y_i \\n\";\n",
    "        for(auto di : data)\n",
    "            std::cout << di.x << \" \" << di.y << \"\\n\";\n",
    "        "
   ]
  },
  {
   "cell_type": "code",
   "execution_count": 13,
   "metadata": {},
   "outputs": [
    {
     "name": "stdout",
     "output_type": "stream",
     "text": [
      " LeastSquaresFit of degree 2 valid over the range x\\in[0.77:1.08] :: {  Chebyshev polynomial degree 2 :: { 0.11614 -0.0576143 -0.0217856 } } which gives a range of the function  f\\in[0.151969:0.0367406]\n",
      "# covariance matrix:\n",
      " 0.233764  -0.0280476  -0.0985483 \n",
      " -0.0280476  0.32336  -0.0518404 \n",
      " -0.0985483  -0.0518404  0.347209 \n",
      "# chisq = 0.0109127\n",
      "\n"
     ]
    }
   ],
   "source": [
    "// get the continuation function\n",
    "MATH60082::LeastSquaresFit V;\n",
    "V.generateFit(2,data);\n",
    "\n",
    "std::cout << V << \"\\n\";"
   ]
  },
  {
   "cell_type": "code",
   "execution_count": 14,
   "metadata": {},
   "outputs": [
    {
     "name": "stdout",
     "output_type": "stream",
     "text": [
      "# fitted estimation \n",
      "  x_i \t   y_i  \t V(x_i) \n",
      "0.77\t 0.188353\t 0.151969\n",
      "0.84\t 0.0847588\t 0.156418\n",
      "0.97\t 0.169518\t 0.117527\n",
      "1.07\t 0.0659235\t 0.0458983\n",
      "1.08\t 0\t 0.0367406\n"
     ]
    }
   ],
   "source": [
    "std::cout << \"# fitted estimation \\n  x_i \\t   y_i  \\t V(x_i) \\n\";\n",
    " \n",
    "for(auto di : data)\n",
    "    std::cout << di.x << \"\\t \" << di.y << \"\\t \" << V(di.x) << \"\\n\";\n",
    "\n"
   ]
  },
  {
   "cell_type": "code",
   "execution_count": 15,
   "metadata": {},
   "outputs": [
    {
     "name": "stdout",
     "output_type": "stream",
     "text": [
      "# Cash flow at this step: \n",
      "i kstar  V \n",
      "1 3     0\n",
      "2 3     0\n",
      "3 3     0.0659235\n",
      "4 2     0.13\n",
      "5 3     0\n",
      "6 2     0.33\n",
      "7 2     0.26\n",
      "8 3     0\n"
     ]
    }
   ],
   "source": [
    "\n",
    "        std::cout << \"# Cash flow at this step: \\ni kstar  V \\n\";\n",
    "        // then select those paths and check against continuation function\n",
    "        for(int i=0;i<int(n);i++)\n",
    "        {\n",
    "            std::cout << i+1 << \" \";\n",
    "            if(paths[i][2]<strikePrice)\n",
    "            {\n",
    "                double exerciseValue=std::max(strikePrice - paths[i][2],0.);\n",
    "                if(exerciseValue>V(paths[i][2]))\n",
    "                {\n",
    "                    exercisePeriod[i]=2;\n",
    "                    std::cout << exercisePeriod[i] << \"     \" << strikePrice - paths[i][2] << \"\\n\";\n",
    "                }\n",
    "                else \n",
    "                {\n",
    "                    std::cout << exercisePeriod[i] << \"     \" << std::max(strikePrice - paths[i][3],0.)*exp(-interestRate*dt) << \"\\n\";\n",
    "                } \n",
    "            }\n",
    "            else\n",
    "            {\n",
    "                std::cout << exercisePeriod[i] << \"     \" << std::max(strikePrice - paths[i][3],0.)*exp(-interestRate*dt) << \"\\n\";\n",
    "            }\n",
    "        }"
   ]
  },
  {
   "cell_type": "code",
   "execution_count": 17,
   "metadata": {},
   "outputs": [
    {
     "name": "stdout",
     "output_type": "stream",
     "text": [
      "# Points for fitting\n",
      " x_i  y_i \n",
      "1.08 0\n",
      "1.07 0.0659235\n",
      "0.97 0.169518\n",
      "0.77 0.188353\n",
      "0.84 0.0847588\n",
      " LeastSquaresFit of degree 2 valid over the range x\\in[0.77:1.08] :: {  Chebyshev polynomial degree 2 :: { 0.11614 -0.0576143 -0.0217856 } } which gives a range of the function  f\\in[0.151969:0.0367406]\n",
      "# covariance matrix:\n",
      " 0.233764  -0.0280476  -0.0985483 \n",
      " -0.0280476  0.32336  -0.0518404 \n",
      " -0.0985483  -0.0518404  0.347209 \n",
      "# chisq = 0.0109127\n",
      "\n",
      "# fitted estimation \n",
      "  x_i \t   y_i  \t V(x_i) \n",
      "0.77\t 0.188353\t 0.151969\n",
      "0.84\t 0.0847588\t 0.156418\n",
      "0.97\t 0.169518\t 0.117527\n",
      "1.07\t 0.0659235\t 0.0458983\n",
      "1.08\t 0\t 0.0367406\n",
      "# Cash flow at 2th step: \n",
      "i kstar  V \n",
      "1 3     0\n",
      "2 3     0\n",
      "3 3     0.0659235\n",
      "4 2     0.13\n",
      "5 3     0\n",
      "6 2     0.33\n",
      "7 2     0.26\n",
      "8 3     0\n",
      "# Points for fitting\n",
      " x_i  y_i \n",
      "1.09 0\n",
      "0.93 0.122429\n",
      "0.76 0.310782\n",
      "0.92 0.244859\n",
      "0.88 0\n",
      " LeastSquaresFit of degree 2 valid over the range x\\in[0.76:1.09] :: {  Chebyshev polynomial degree 2 :: { 0.13131 -0.13629 0.0184648 } } which gives a range of the function  f\\in[0.286065:0.0134851]\n",
      "# covariance matrix:\n",
      " 0.207388  0.0232032  0.0361202 \n",
      " 0.0232032  0.486906  -0.0197937 \n",
      " 0.0361202  -0.0197937  0.219451 \n",
      "# chisq = 0.0406617\n",
      "\n",
      "# fitted estimation \n",
      "  x_i \t   y_i  \t V(x_i) \n",
      "0.76\t 0.310782\t 0.286065\n",
      "0.88\t 0\t 0.152762\n",
      "0.92\t 0.244859\t 0.117009\n",
      "0.93\t 0.122429\t 0.108749\n",
      "1.09\t 0\t 0.0134851\n",
      "# Cash flow at 1th step: \n",
      "i kstar  V \n",
      "1 3     0\n",
      "2 3     0\n",
      "3 3     0.0620844\n",
      "4 1     0.17\n",
      "5 3     0\n",
      "6 1     0.34\n",
      "7 1     0.18\n",
      "8 1     0.22\n",
      "\n",
      "#\n",
      "##\n",
      "# Option Value is 0.114434\n"
     ]
    }
   ],
   "source": [
    "n = 100;\n",
    "\n",
    "paths;\n",
    "\n",
    "exercisePeriod = std::vector<int>(n,timeSteps);\n",
    "    \n",
    "    // assume that time period is t=2\n",
    "    for(int k=timeSteps-1;k>=1;k--)\n",
    "    { \n",
    "        // create an empty set of data points\n",
    "        std::vector<MATH60082::DataPoint> data;\n",
    "        data.reserve(paths.size());\n",
    "        // go through each path, check if it is in the money\n",
    "        // if it is add it as a datapoint with appropriate payoff\n",
    "        for(int i=0;i<int(paths.size());i++)\n",
    "        {\n",
    "            if(paths[i][k]<strikePrice)\n",
    "            {\n",
    "                int kStar=exercisePeriod[i];\n",
    "                double tStar=(kStar-k)*dt;\n",
    "                data.push_back({paths[i][k],std::max(strikePrice - paths[i][kStar],0.)*exp(-interestRate*tStar),1.});\n",
    "            }\n",
    "        }\n",
    "        \n",
    "        std::cout << \"# Points for fitting\\n x_i  y_i \\n\";\n",
    "        for(auto di : data)\n",
    "            std::cout << di.x << \" \" << di.y << \"\\n\";\n",
    "        \n",
    "        // get the continuation function\n",
    "        MATH60082::LeastSquaresFit V;\n",
    "        \n",
    "        V.generateFit(2,data);\n",
    "        \n",
    "        std::cout << V << \"\\n\";\n",
    "        \n",
    "        std::cout << \"# fitted estimation \\n  x_i \\t   y_i  \\t V(x_i) \\n\";\n",
    "        \n",
    "        for(auto di : data)\n",
    "            std::cout << di.x << \"\\t \" << di.y << \"\\t \" << V(di.x) << \"\\n\";\n",
    "        \n",
    "        std::cout << \"# Cash flow at \"<<k<<\"th step: \\ni kstar  V \\n\";\n",
    "        // then select those paths and check against continuation function\n",
    "        for(int i=0;i<int(paths.size());i++)\n",
    "        {\n",
    "            std::cout << i+1 << \" \";\n",
    "            if(paths[i][k]<strikePrice)\n",
    "            {\n",
    "                double exerciseValue=std::max(strikePrice - paths[i][k],0.);\n",
    "                if(exerciseValue>V(paths[i][k]))\n",
    "                {\n",
    "                    exercisePeriod[i]=k;\n",
    "                    std::cout << exercisePeriod[i] << \"     \" << strikePrice - paths[i][k] << \"\\n\";\n",
    "                }\n",
    "                else \n",
    "                {\n",
    "                    int kStar=exercisePeriod[i];\n",
    "                    double tStar=(kStar-k)*dt;\n",
    "                    std::cout << exercisePeriod[i] << \"     \" << std::max(strikePrice - paths[i][kStar],0.)*exp(-interestRate*tStar) << \"\\n\";\n",
    "                } \n",
    "            }\n",
    "            else\n",
    "            {\n",
    "                int kStar=exercisePeriod[i];\n",
    "                double tStar=(kStar-k)*dt;\n",
    "                std::cout << exercisePeriod[i] << \"     \" << std::max(strikePrice - paths[i][kStar],0.)*exp(-interestRate*tStar) << \"\\n\";\n",
    "            }\n",
    "        }\n",
    "        \n",
    "    }\n",
    "    \n",
    "    {\n",
    "        // implement Monte Carlo on the paths\n",
    "        double sum=0.;\n",
    "        for(int i=0;i<n;i++)\n",
    "        {\n",
    "            int k=exercisePeriod[i];\n",
    "            double exerciseValue=std::max(strikePrice - paths[i][k],0.);\n",
    "            double exerciseTime=k*dt;\n",
    "            sum+=exerciseValue*exp(-interestRate*exerciseTime);\n",
    "        }\n",
    "        std::cout << \"\\n#\\n##\\n# Option Value is \" << sum/n << \"\\n\";\n",
    "    }"
   ]
  },
  {
   "cell_type": "code",
   "execution_count": null,
   "metadata": {},
   "outputs": [],
   "source": []
  }
 ],
 "metadata": {
  "kernelspec": {
   "display_name": "C++14",
   "language": "C++14",
   "name": "xeus-cling-cpp14"
  },
  "language_info": {
   "codemirror_mode": "text/x-c++src",
   "file_extension": ".cpp",
   "mimetype": "text/x-c++src",
   "name": "c++",
   "version": "14"
  }
 },
 "nbformat": 4,
 "nbformat_minor": 2
}
