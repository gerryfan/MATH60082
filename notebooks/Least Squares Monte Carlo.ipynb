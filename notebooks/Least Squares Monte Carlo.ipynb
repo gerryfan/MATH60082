{
 "cells": [
  {
   "cell_type": "markdown",
   "metadata": {},
   "source": [
    "# Least Squares Monte Carlo: Longstaff and Schwartz (2001)\n",
    "\n",
    " Monte Carlo methods is a popular choice to calculate the value for most types of options, but they struggle with early exercise. This is the subject of lots of research at the moment and we have seen the basic idea of some of the methods. What we present here is one of the easiest methods to understand and implement. There are still issues with how it performs in practise which we will also deal with here. The key issue is: _How to find what is the expected value for continuation?_ The continuation value is the discounted expected option value at the next instance in time.\n",
    "\n",
    "The Longstaff and Schwartz method estimates the conditional expected option value by:\n",
    "\n",
    "- simulating lots of paths\n",
    "- carrying out a regression analysis on the resulting option values\n",
    "\n",
    "This gives an approximation for the continuation value that can then be compared to the early exercise value and then we know the option value at each point in time on each path. In terms of Monte Carlo pricing, all we actually need to know is the rule for early exercising, so we know when we receive the \n",
    "cash flows and the value of the option is the average of the discounted payoffs for each path.\n",
    "\n",
    "We will explain the method via an example and then describe the general method. First we need to include a number of libraries in our code..."
   ]
  },
  {
   "cell_type": "code",
   "execution_count": 1,
   "metadata": {},
   "outputs": [],
   "source": [
    "#include \"../include/math60082_leastSquaresFit.hpp\"\n",
    "#include \"../include/math60082_randomPaths.hpp\"\n",
    "#include \"../include/math60082_monteCarloLeastSquares.hpp\"\n",
    "#include <vector>\n",
    "#include <iostream>\n",
    "#include <random>"
   ]
  },
  {
   "cell_type": "code",
   "execution_count": 2,
   "metadata": {},
   "outputs": [],
   "source": [
    ".L boost_system  "
   ]
  },
  {
   "cell_type": "code",
   "execution_count": 3,
   "metadata": {},
   "outputs": [],
   "source": [
    ".L ../lib/libmath60082.so"
   ]
  },
  {
   "cell_type": "code",
   "execution_count": 4,
   "metadata": {},
   "outputs": [],
   "source": [
    ".L libgsl.so "
   ]
  },
  {
   "cell_type": "code",
   "execution_count": 5,
   "metadata": {},
   "outputs": [],
   "source": [
    ".L libcblas.so"
   ]
  },
  {
   "cell_type": "code",
   "execution_count": 6,
   "metadata": {},
   "outputs": [],
   "source": [
    "#include \"math60082_gnuplot_image.hpp\""
   ]
  },
  {
   "cell_type": "code",
   "execution_count": 7,
   "metadata": {},
   "outputs": [],
   "source": [
    "// number of exercise dates\n",
    "int timeSteps;\n",
    "// some parameters in the problem\n",
    "double maturity,interestRate,strikePrice,S0,sigma;\n",
    "// local parameters\n",
    "double dt=maturity/timeSteps;\n",
    "// number of paths n\n",
    "int n;\n",
    "// degree of fitting polynomial\n",
    "int M_degree;\n",
    "std::vector< std::vector<double> > paths;\n",
    "std::vector<int> exercisePeriod;\n",
    "std::vector<MATH60082::DataPoint> data;\n",
    "MATH60082::LeastSquaresFit V;\n",
    "std::vector<double> t;"
   ]
  },
  {
   "cell_type": "markdown",
   "metadata": {},
   "source": [
    "We will attempt to value a Bermudan put option where exercise is possible now and at three future dates. We choose\n",
    "$S_0 = 1$, $X = 1.1$, $r = 0.06.$\n",
    "\n",
    "The first step is to simulate some paths, we choose the same 8 paths that are used in the paper to demonstrate the method."
   ]
  },
  {
   "cell_type": "code",
   "execution_count": 8,
   "metadata": {},
   "outputs": [
    {
     "data": {
      "image/png": "[encoded data removed]"
     },
     "execution_count": 8,
     "metadata": {},
     "output_type": "execute_result"
    }
   ],
   "source": [
    "// number of exercise dates\n",
    "timeSteps=3;\n",
    "// some parameters in the problem\n",
    "maturity=3.;\n",
    "interestRate=0.06;\n",
    "strikePrice=1.1;\n",
    "M_degree=2;\n",
    "// local parameters\n",
    "dt=maturity/timeSteps;\n",
    "// number of paths n\n",
    "n=8;\n",
    "// the paths as given in Longstaff & Schartz (2001)\n",
    "paths = MATH60082::generateLongstaffPaths(timeSteps,dt,n);\n",
    "// later we might want to make these random\n",
    "// paths=MATH60082::generateRandomPaths(timeSteps,S0,dt,interestRate,sigma,n);\n",
    "// plot the figure\n",
    "{\n",
    "    t.resize(timeSteps+1);\n",
    "    for(int i=0;i<=timeSteps;i++)\n",
    "    {\n",
    "        t[i] = i*dt;\n",
    "    }\n",
    "    // put the plot in figure1\n",
    "    GPLT::figure = GPLT::G.plotData(t,paths,0);\n",
    "}\n",
    "// show figure\n",
    "GPLT::figure"
   ]
  },
  {
   "cell_type": "markdown",
   "metadata": {},
   "source": [
    "Each of the 8 paths are plotted. We can see for instance that the light blue line is path number 3 from the paper.\n",
    "\n",
    "We need to use this information to determine the continuation value at each point in time for each path. To do this we will construct a \"Cash Flow Matrix\" at each point in time. The table below denotes the cash flows at $t=3$ assuming that we held the option that far:\n",
    "\n",
    "| Path |  t=1  |  t=2  |  t=3  |\n",
    "|------|-------|-------|-------|\n",
    "|1     |     - |     - |   .00 |\n",
    "|2     | -     | -     | .00   |\n",
    "|3     | -     | -     | .07   |\n",
    "|4     | -     | -     | .18   |\n",
    "|5     | -     | -     | .00   |\n",
    "|6     |     - | -     | .20   |\n",
    "|7     |     - | -     | .09   |\n",
    "|8     |     - | -     | .00   |\n",
    "\n",
    "At the moment we assume that all the paths are exercised at $t=3$. We need to keep track of when a path is exercised so store this in a vector."
   ]
  },
  {
   "cell_type": "code",
   "execution_count": 9,
   "metadata": {},
   "outputs": [
    {
     "data": {
      "text/plain": [
       "{ 3, 3, 3, 3, 3, 3, 3, 3 }"
      ]
     },
     "execution_count": 9,
     "metadata": {},
     "output_type": "execute_result"
    }
   ],
   "source": [
    "// all paths initially exected to be exercised at expiry\n",
    "exercisePeriod = std::vector<int>(n,timeSteps);"
   ]
  },
  {
   "cell_type": "markdown",
   "metadata": {},
   "source": [
    "The next step is to attempt to find a function that describes the continuation value at time 2 as a function of the value of $S$ at time 2. To do this we use a regression technique, that takes the values at time 2 as the \"$x$\" values and the discounted payoff at time 3 as the \"$y$\" values.\n",
    "\n",
    "| Path |   y                 |  x   |\n",
    "|------|---------------------|------|\n",
    "| 1    |  $.00\\times .94176$ | 1.08 | \n",
    "| 2    | -                   | -    | \n",
    "| 3    | $.07\\times .94176$  | 1.07 | \n",
    "| 4    | $.18\\times .94176$  |  .97 | \n",
    "| 5    | -                   | -    | \n",
    "| 6    | $.20\\times .94176$  |  .77 | \n",
    "| 7    | $.09\\times .94176$  |  .84 | \n",
    "| 8    | -                   | -    | \n",
    "\n",
    "We put each of these values into a vector of type `MATH60082::DataPoint`, including only values where $S<X$."
   ]
  },
  {
   "cell_type": "code",
   "execution_count": 10,
   "metadata": {},
   "outputs": [],
   "source": [
    "// create an empty set of data points\n",
    "data.clear();\n",
    "data.reserve(n);\n",
    "// go through each path, check if it is in the money\n",
    "// if it is add it as a datapoint with appropriate payoff\n",
    "for(int i=0;i<n;i++)\n",
    "{\n",
    "    if(paths[i][timeSteps-1]<strikePrice)\n",
    "    {\n",
    "        data.push_back({paths[i][timeSteps-1],std::max(strikePrice - paths[i][timeSteps],0.)*exp(-interestRate*dt),1.});\n",
    "    }\n",
    "}"
   ]
  },
  {
   "cell_type": "markdown",
   "metadata": {},
   "source": [
    "Check the values in `data` match those from the table"
   ]
  },
  {
   "cell_type": "code",
   "execution_count": 11,
   "metadata": {},
   "outputs": [
    {
     "name": "stdout",
     "output_type": "stream",
     "text": [
      "# Points for fitting\n",
      " x_i  y_i \n",
      "1.08 0\n",
      "1.07 0.0659235\n",
      "0.97 0.169518\n",
      "0.77 0.188353\n",
      "0.84 0.0847588\n"
     ]
    }
   ],
   "source": [
    "std::cout << \"# Points for fitting\\n x_i  y_i \\n\";\n",
    "for(auto di : data)\n",
    "    std::cout << di.x << \" \" << di.y << \"\\n\";"
   ]
  },
  {
   "cell_type": "markdown",
   "metadata": {},
   "source": [
    "Now perform the regression using `MATH60082::LeastSquaresFit`. We use `M_degree=2` so that it is a simple regression upon\n",
    "$ x$ and $x^2$."
   ]
  },
  {
   "cell_type": "code",
   "execution_count": 12,
   "metadata": {},
   "outputs": [
    {
     "name": "stdout",
     "output_type": "stream",
     "text": [
      " LeastSquaresFit of degree 2 valid over the range x\\in[0.77:1.08] :: {  Chebyshev polynomial degree 2 :: { 0.11614 -0.0576143 -0.0217856 } } which gives a range of the function  f\\in[0.151969:0.0367406]\n",
      "# covariance matrix:\n",
      " 0.233764  -0.0280476  -0.0985483 \n",
      " -0.0280476  0.32336  -0.0518404 \n",
      " -0.0985483  -0.0518404  0.347209 \n",
      "# chisq = 0.0109127\n",
      "\n"
     ]
    }
   ],
   "source": [
    "// get the continuation function\n",
    "V.generateFit(M_degree,data);\n",
    "std::cout << V << \"\\n\";"
   ]
  },
  {
   "cell_type": "markdown",
   "metadata": {},
   "source": [
    "To give you an idea of what this looks like, plot this regression function out against plotted data points. "
   ]
  },
  {
   "cell_type": "code",
   "execution_count": 13,
   "metadata": {},
   "outputs": [
    {
     "name": "stdout",
     "output_type": "stream",
     "text": [
      "# fitted estimation \n",
      "  x_i \t   y_i  \t V(x_i) \n",
      "0.77\t 0.188353\t 0.151969\n",
      "0.84\t 0.0847588\t 0.156418\n",
      "0.97\t 0.169518\t 0.117527\n",
      "1.07\t 0.0659235\t 0.0458983\n",
      "1.08\t 0\t 0.0367406\n"
     ]
    },
    {
     "data": {
      "image/png": "[encoded data removed]"
     },
     "execution_count": 13,
     "metadata": {},
     "output_type": "execute_result"
    }
   ],
   "source": [
    "std::cout << \"# fitted estimation \\n  x_i \\t   y_i  \\t V(x_i) \\n\";\n",
    "{\n",
    "    std::vector<std::vector<double>> x(3),y(3);\n",
    "    \n",
    "    for(auto di : data)\n",
    "    {\n",
    "        x[0].push_back(di.x);y[0].push_back(di.y);\n",
    "        std::cout << di.x << \"\\t \" << di.y << \"\\t \" << V(di.x) << \"\\n\";\n",
    "    }\n",
    "    int steps=100;\n",
    "    double xMin=data.begin()->x;\n",
    "    double xMax=data.rbegin()->x;\n",
    "    double xStep = (xMax-xMin)/steps;\n",
    "    for(int i=0;i<=steps;i++)\n",
    "    {\n",
    "        double xVal=xMin + i*xStep;\n",
    "        x[1].push_back(xVal);y[1].push_back(V(xVal));\n",
    "        x[2].push_back(xVal);y[2].push_back(strikePrice - xVal);\n",
    "    }\n",
    "    GPLT::figure = GPLT::G.plotData(x,y,0);\n",
    "}\n",
    "GPLT::figure"
   ]
  },
  {
   "cell_type": "markdown",
   "metadata": {},
   "source": [
    "In the figure, the purple line gives the particular value of continuing alaong a path, the green line plots the regression function $V(S)$, and the blue line plots the payoff function $X-S$.\n",
    "\n",
    "This then allows you to decide at which points in time you would exercise and thus determine the cash flows at $t=2$ (below). Notice that for each path, if you exercise at $t=2$ then you do not\n",
    "also exercise at $t=3$. The decision for a particular path is made by comparing the continuation value vs the exercise value __not__ the future value on that path vs the exercise value. In the picture it infers that any path at $t=2$ with $S<1$ will be exercised early."
   ]
  },
  {
   "cell_type": "code",
   "execution_count": 14,
   "metadata": {},
   "outputs": [
    {
     "name": "stdout",
     "output_type": "stream",
     "text": [
      "# Cash flow at this step: \n",
      "i kstar  V \n",
      "1 3     0\n",
      "2 3     0\n",
      "3 3     0.0659235\n",
      "4 2     0.13\n",
      "5 3     0\n",
      "6 2     0.33\n",
      "7 2     0.26\n",
      "8 3     0\n"
     ]
    }
   ],
   "source": [
    "std::cout << \"# Cash flow at this step: \\ni kstar  V \\n\";\n",
    "// then select those paths and check against continuation function\n",
    "for(int i=0;i<int(n);i++)\n",
    "{\n",
    "    std::cout << i+1 << \" \";\n",
    "    if(paths[i][2]<strikePrice)\n",
    "    {\n",
    "        double exerciseValue=std::max(strikePrice - paths[i][2],0.);\n",
    "        if(exerciseValue>V(paths[i][2]))\n",
    "        {\n",
    "            exercisePeriod[i]=2;\n",
    "            std::cout << exercisePeriod[i] << \"     \" << strikePrice - paths[i][2] << \"\\n\";\n",
    "        }\n",
    "        else \n",
    "        {\n",
    "            std::cout << exercisePeriod[i] << \"     \" << std::max(strikePrice - paths[i][3],0.)*exp(-interestRate*dt) << \"\\n\";\n",
    "        } \n",
    "    }\n",
    "    else\n",
    "    {\n",
    "        std::cout << exercisePeriod[i] << \"     \" << std::max(strikePrice - paths[i][3],0.)*exp(-interestRate*dt) << \"\\n\";\n",
    "    }\n",
    "}"
   ]
  },
  {
   "cell_type": "markdown",
   "metadata": {},
   "source": [
    "We can apply the same process to $t=1$, for each of the paths that are in the money we regress the discounted future cash flows on the current value of the underlying asset, including any decisions we made to early exercise at $t=2$ in the calculation. We can then form a loop to go through each of the timesteps recurssively back to the initial start point. Finally the option can be valued by averaging the cashflows on each path."
   ]
  },
  {
   "cell_type": "code",
   "execution_count": 15,
   "metadata": {},
   "outputs": [
    {
     "name": "stdout",
     "output_type": "stream",
     "text": [
      "\n",
      "#\n",
      "##\n",
      "# American Option Value is 0.114434\n",
      "\n",
      "#\n",
      "##\n",
      "# European Option Value is 0.0563807\n"
     ]
    }
   ],
   "source": [
    "// number of exercise dates\n",
    "timeSteps=3;\n",
    "M_degree=2;\n",
    "// some parameters in the problem\n",
    "maturity=3.;\n",
    "interestRate=0.06;\n",
    "strikePrice=1.1;\n",
    "S0=1.;\n",
    "// number of paths n\n",
    "paths=MATH60082::generateLongstaffPaths(timeSteps,dt,n);\n",
    "exercisePeriod = std::vector<int>(n,timeSteps);\n",
    "   \n",
    "    // assume that time period is t=2\n",
    "    for(int k=timeSteps-1;k>=1;k--)\n",
    "    { \n",
    "        // create an empty set of data points\n",
    "        std::vector<MATH60082::DataPoint> data;\n",
    "        data.reserve(paths.size());\n",
    "        // go through each path, check if it is in the money\n",
    "        // if it is add it as a datapoint with appropriate payoff\n",
    "        for(int i=0;i<int(paths.size());i++)\n",
    "        {\n",
    "            if(paths[i][k]<strikePrice)\n",
    "            {\n",
    "                int kStar=exercisePeriod[i];\n",
    "                double tStar=(kStar-k)*dt;\n",
    "                data.push_back({paths[i][k],std::max(strikePrice - paths[i][kStar],0.)*exp(-interestRate*tStar),1.});\n",
    "            }\n",
    "        }\n",
    "        \n",
    "        // get the continuation function\n",
    "        MATH60082::LeastSquaresFit V;      \n",
    "        V.generateFit(M_degree,data);\n",
    "        // then select those paths and check against continuation function\n",
    "        for(int i=0;i<int(paths.size());i++)\n",
    "        {\n",
    "            if(paths[i][k]<strikePrice)\n",
    "            {\n",
    "                double exerciseValue=std::max(strikePrice - paths[i][k],0.);\n",
    "                if(exerciseValue>V(paths[i][k]))\n",
    "                {\n",
    "                    exercisePeriod[i]=k;\n",
    "                }\n",
    "                else \n",
    "                {\n",
    "                    int kStar=exercisePeriod[i];\n",
    "                    double tStar=(kStar-k)*dt;\n",
    "                } \n",
    "            }\n",
    "            else\n",
    "            {\n",
    "                int kStar=exercisePeriod[i];\n",
    "                double tStar=(kStar-k)*dt;\n",
    "            }\n",
    "        }\n",
    "        \n",
    "    }\n",
    "    \n",
    "    {\n",
    "        // implement Monte Carlo on the paths\n",
    "        double sum=0.;\n",
    "        for(int i=0;i<n;i++)\n",
    "        {\n",
    "            // get early exercise time for American option\n",
    "            int k=exercisePeriod[i];\n",
    "            double exerciseValue=std::max(strikePrice - paths[i][k],0.);\n",
    "            double exerciseTime=k*dt;\n",
    "            sum+=exerciseValue*exp(-interestRate*exerciseTime);\n",
    "        }\n",
    "        std::cout << \"\\n#\\n##\\n# American Option Value is \" << sum/n << \"\\n\";\n",
    "    }\n",
    "    {\n",
    "        // implement Monte Carlo on the paths\n",
    "        double sum=0.;\n",
    "        for(int i=0;i<n;i++)\n",
    "        {\n",
    "            // set exercise to final time step for European option\n",
    "            int k=timeSteps;\n",
    "            double exerciseValue=std::max(strikePrice - paths[i][k],0.);\n",
    "            double exerciseTime=k*dt;\n",
    "            sum+=exerciseValue*exp(-interestRate*exerciseTime);\n",
    "        }\n",
    "        std::cout << \"\\n#\\n##\\n# European Option Value is \" << sum/n << \"\\n\";\n",
    "    }"
   ]
  },
  {
   "cell_type": "markdown",
   "metadata": {},
   "source": [
    "So the final value of the option we have for the American style option is 0.114434. If we were to use the exact same paths to value a European style option, we would just exercise all paths at maturity. The corresponding value is found here as 0.0563807, so that the value of the European is less than the value of the American -- which is what we would expect.\n",
    "\n",
    "Finally we can put this in some code and run some analysis as to what happens as $N\\rightarrow\\infty$. To analyse the values we might like something to compare against. You can use the calculator on my webpage [(click here)]{https://personalpages.manchester.ac.uk/staff/paul.johnson-2/pages/americanCalculator.html} to get reference values. Choosing $S_0=1.973$, $T=1$, $X=2$, $r=0.05$, $\\sigma=0.4$ we have an American option value of $V=0.284$. Running our Monte Carlo code appears to converge on a similar result:-"
   ]
  },
  {
   "cell_type": "code",
   "execution_count": 17,
   "metadata": {},
   "outputs": [
    {
     "data": {
      "image/png": "[encoded data removed]"
     },
     "execution_count": 17,
     "metadata": {},
     "output_type": "execute_result"
    }
   ],
   "source": [
    "{\n",
    "    // number of exercise dates\n",
    "    int timeSteps=10; \n",
    "    // some parameters in the problem\n",
    "    double maturity=1.,interestRate=0.05,strikePrice=2.,S0=1.973,sigma=0.4;\n",
    "    \n",
    "    // number of paths n\n",
    "    int n=100;\n",
    "    // degree of fitting polynomial\n",
    "    int M_degree=4;\n",
    "    \n",
    "    int simulations=250;\n",
    "    std::vector<double> steps(simulations),values(simulations);\n",
    "    \n",
    "    for(int i=0;i<simulations;i++)\n",
    "    {\n",
    "        int N=(i+1)*n;\n",
    "        steps[i] = N;\n",
    "        values[i] = MATH60082::monteCarloLeastSquares(S0,maturity,strikePrice,interestRate,sigma,timeSteps,M_degree,N);\n",
    "        GPLT::figure = GPLT::G.plotData(steps,values,0);\n",
    "    }\n",
    "}\n",
    "GPLT::figure"
   ]
  },
  {
   "cell_type": "code",
   "execution_count": null,
   "metadata": {},
   "outputs": [],
   "source": [
    "Here the values of the option appear to converge to a value"
   ]
  }
 ],
 "metadata": {
  "kernelspec": {
   "display_name": "C++14",
   "language": "C++14",
   "name": "xeus-cling-cpp14"
  },
  "language_info": {
   "codemirror_mode": "text/x-c++src",
   "file_extension": ".cpp",
   "mimetype": "text/x-c++src",
   "name": "c++",
   "version": "14"
  }
 },
 "nbformat": 4,
 "nbformat_minor": 2
}
