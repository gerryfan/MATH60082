{
 "cells": [
  {
   "cell_type": "code",
   "execution_count": 1,
   "metadata": {},
   "outputs": [],
   "source": [
    "#include \"include/math60082_cn.hpp\"\n",
    "#include \"include/math60082_sor.hpp\"\n",
    "#include <iostream>\n",
    "#include <vector>\n",
    "#include <chrono>\n",
    "using namespace std;"
   ]
  },
  {
   "cell_type": "code",
   "execution_count": 3,
   "metadata": {},
   "outputs": [],
   "source": [
    ".L lib/libmath60082.so"
   ]
  },
  {
   "cell_type": "code",
   "execution_count": 4,
   "metadata": {},
   "outputs": [
    {
     "name": "stdout",
     "output_type": "stream",
     "text": [
      "0.5\n",
      "0.841345\n",
      "0.97725\n"
     ]
    }
   ],
   "source": [
    "cout << MATH60082::normalDistribution(0.) << \"\\n\";\n",
    "cout << MATH60082::normalDistribution(1.) << \"\\n\";\n",
    "cout << MATH60082::normalDistribution(2.) << \"\\n\";"
   ]
  },
  {
   "cell_type": "code",
   "execution_count": 5,
   "metadata": {},
   "outputs": [],
   "source": [
    "// declare and initialise Black Scholes parameters\n",
    "double S0,X,T,r,sigma;\n",
    "// declare and initialise grid paramaters \n",
    "int iMax,jMax;\n",
    "// declare and initialise local variables (ds,dt)\n",
    "double SMax;"
   ]
  },
  {
   "cell_type": "code",
   "execution_count": 8,
   "metadata": {},
   "outputs": [
    {
     "name": "stdout",
     "output_type": "stream",
     "text": [
      " n    | V_cn     | V_exact  | error | CPU (time) \n",
      "20 | 0.118344 | 0.136688 | -0.0183438 | 0\n",
      "40 | 0.135075 | 0.136688 | -0.0016132 | 0.001\n",
      "80 | 0.136721 | 0.136688 | 3.24821e-05 | 0.004\n",
      "160 | 0.136247 | 0.136688 | -0.000441631 | 0.012\n",
      "320 | 0.136589 | 0.136688 | -9.90283e-05 | 0.028\n",
      "640 | 0.136669 | 0.136688 | -1.96649e-05 | 0.102\n",
      "1280 | 0.136685 | 0.136688 | -2.80682e-06 | 0.418\n"
     ]
    }
   ],
   "source": [
    "// initialise Black Scholes parameters\n",
    "S0=1.936;X=2.;T=1.;r=0.05;sigma=0.2;\n",
    "cout << \" n    | V_cn     | V_exact  | error | CPU (time) \\n\";\n",
    "for(int k=1;k<=7;k++)\n",
    "{\n",
    "    int n=10*pow(2,k);\n",
    "    iMax = n;\n",
    "    jMax = n;\n",
    "    \n",
    "    double value_exact = MATH60082::europeanPut_exact(S0,X,T,r,sigma);\n",
    "    auto start = chrono::system_clock::now();\n",
    "    double value_cn = MATH60082::europeanPut_CN(S0,X,T,r,sigma,iMax,jMax,5*X,1.4,1.e-10,10000);\n",
    "    auto end = chrono::system_clock::now();\n",
    "    auto elapsed = chrono::duration_cast<chrono::milliseconds>(end - start);\n",
    "  \n",
    "    cout << n << \" | \" << value_cn;\n",
    "    cout << \" | \" << value_exact << \" | \" ;\n",
    "    cout << value_cn - value_exact << \" | \" ;\n",
    "    cout << elapsed.count()/1000.<< \"\\n\";\n",
    "}"
   ]
  },
  {
   "cell_type": "code",
   "execution_count": 7,
   "metadata": {},
   "outputs": [
    {
     "name": "stdout",
     "output_type": "stream",
     "text": [
      "x = { 1 1.75 2.25 2.25 } after 50 iterations.\n"
     ]
    }
   ],
   "source": [
    "{\n",
    "    // declare vector to store matrix A\n",
    "vector<double> a = { 0.,-1,-1,-1};\n",
    "vector<double> b = { 1.,2,2,1};\n",
    "vector<double> c = { 0.,-1,-1,0.};\n",
    "// declare vector for the rhs v and solution x \n",
    "vector<double> rhs = {1.,0.25,0.5,0.};\n",
    "vector<double> x;\n",
    "// reset initial guess for x\n",
    "x = {0.,0.,0.,0.};\n",
    "int sor;\n",
    "// iterMax=50, tol=1.e-6, omega = 1\n",
    "MATH60082::sorSolve(a,b,c,rhs,x,50,1.e-6,1.,sor);\n",
    "cout << \"x = { \";\n",
    "for(auto xi : x)cout << xi << \" \";\n",
    "cout << \"} after \" << sor+1 << \" iterations.\\n\";\n",
    "}"
   ]
  },
  {
   "cell_type": "code",
   "execution_count": null,
   "metadata": {},
   "outputs": [],
   "source": []
  }
 ],
 "metadata": {
  "kernelspec": {
   "display_name": "C++14",
   "language": "C++14",
   "name": "xeus-cling-cpp14"
  },
  "language_info": {
   "codemirror_mode": "text/x-c++src",
   "file_extension": ".cpp",
   "mimetype": "text/x-c++src",
   "name": "c++",
   "version": "14"
  }
 },
 "nbformat": 4,
 "nbformat_minor": 2
}
