{
 "cells": [
  {
   "cell_type": "code",
   "execution_count": 1,
   "metadata": {},
   "outputs": [],
   "source": [
    "#include \"include/math60082_cn.hpp\"\n",
    "#include <iostream>\n",
    "using namespace std;"
   ]
  },
  {
   "cell_type": "code",
   "execution_count": 2,
   "metadata": {},
   "outputs": [],
   "source": [
    ".L lib/libmath60082.so"
   ]
  },
  {
   "cell_type": "code",
   "execution_count": 3,
   "metadata": {},
   "outputs": [
    {
     "name": "stdout",
     "output_type": "stream",
     "text": [
      "0.841345"
     ]
    }
   ],
   "source": [
    "cout << MATH60082::normalDistribution(1.);"
   ]
  },
  {
   "cell_type": "code",
   "execution_count": 5,
   "metadata": {},
   "outputs": [
    {
     "name": "stdout",
     "output_type": "stream",
     "text": [
      " n    | V_cn     | V_exact  | error   \n",
      "20 | 0.26121 | 0.273152 | -0.0119412\n",
      "40 | 0.271037 | 0.273152 | -0.00211422\n",
      "80 | 0.2729 | 0.273152 | -0.000251822\n",
      "160 | 0.273158 | 0.273152 | 6.52652e-06\n",
      "320 | 0.273123 | 0.273152 | -2.89602e-05\n"
     ]
    }
   ],
   "source": [
    "// declare and initialise Black Scholes parameters\n",
    "double S0,X,T,r,sigma;\n",
    "// declare and initialise grid paramaters \n",
    "int iMax,jMax;\n",
    "// declare and initialise local variables (ds,dt)\n",
    "double SMax;\n",
    "// initialise Black Scholes parameters\n",
    "S0=1.973;X=2.;T=1.;r=0.05;sigma=0.4;\n",
    "// initialise grid paramaters \n",
    "iMax=40;jMax=40;SMax=2*X;\n",
    "cout << \" n    | V_cn     | V_exact  | error   \\n\";\n",
    "for(int k=1;k<=5;k++)\n",
    "{\n",
    "    int n=10*pow(2,k);\n",
    "    iMax = n;\n",
    "    jMax = n;\n",
    "    double value_exact = MATH60082::europeanPut_exact(S0,X,T,r,sigma);\n",
    "    double value_cn = MATH60082::europeanPut_CN(S0,X,T,r,sigma,iMax,jMax,5*X,1.2,1.e-8,1000);\n",
    "    cout << n << \" | \" << value_cn;\n",
    "    cout << \" | \" << value_exact << \" | \" ;\n",
    "    cout << value_cn - value_exact << \"\\n\";\n",
    "}"
   ]
  },
  {
   "cell_type": "code",
   "execution_count": null,
   "metadata": {},
   "outputs": [],
   "source": []
  }
 ],
 "metadata": {
  "kernelspec": {
   "display_name": "C++14",
   "language": "C++14",
   "name": "xeus-cling-cpp14"
  },
  "language_info": {
   "codemirror_mode": "text/x-c++src",
   "file_extension": ".cpp",
   "mimetype": "text/x-c++src",
   "name": "c++",
   "version": "14"
  }
 },
 "nbformat": 4,
 "nbformat_minor": 2
}
