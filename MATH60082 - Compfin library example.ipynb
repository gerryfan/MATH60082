{
 "cells": [
  {
   "cell_type": "code",
   "execution_count": 1,
   "metadata": {},
   "outputs": [],
   "source": [
    "#include \"include/math60082_cn.hpp\"\n",
    "#include \"include/math60082_sor.hpp\"\n",
    "#include <iostream>\n",
    "#include <vector>\n",
    "#include <chrono>\n",
    "#include <string>\n",
    "#include <fstream>\n",
    "\n",
    "#include \"xtl/xbase64.hpp\"\n",
    "#include \"xeus/xjson.hpp\"\n",
    "using namespace std;"
   ]
  },
  {
   "cell_type": "code",
   "execution_count": 2,
   "metadata": {},
   "outputs": [],
   "source": [
    ".L lib/libmath60082.so"
   ]
  },
  {
   "cell_type": "code",
   "execution_count": 3,
   "metadata": {},
   "outputs": [],
   "source": [
    "namespace im\n",
    "{\n",
    "    struct image\n",
    "    {   \n",
    "        inline image(const std::string& filename)\n",
    "        {\n",
    "            std::ifstream fin(filename, std::ios::binary);   \n",
    "            m_buffer << fin.rdbuf();\n",
    "        }\n",
    "        \n",
    "        std::stringstream m_buffer;\n",
    "    };\n",
    "    \n",
    "    xeus::xjson mime_bundle_repr(const image& i)\n",
    "    {\n",
    "        auto bundle = xeus::xjson::object();\n",
    "        bundle[\"image/png\"] = xtl::base64encode(i.m_buffer.str());\n",
    "        return bundle;\n",
    "    }\n",
    "}"
   ]
  },
  {
   "cell_type": "code",
   "execution_count": 4,
   "metadata": {},
   "outputs": [
    {
     "data": {
      "text/plain": [
       "0"
      ]
     },
     "execution_count": 4,
     "metadata": {},
     "output_type": "execute_result"
    }
   ],
   "source": [
    "system(\"gnuplot \\\"plotFiles/plotSinFunction.plt\\\"\")"
   ]
  },
  {
   "cell_type": "code",
   "execution_count": 5,
   "metadata": {},
   "outputs": [],
   "source": [
    ".> out.txt"
   ]
  },
  {
   "cell_type": "code",
   "execution_count": 6,
   "metadata": {
    "scrolled": false
   },
   "outputs": [
    {
     "data": {
      "image/png": "[encoded data removed]"
     },
     "execution_count": 6,
     "metadata": {},
     "output_type": "execute_result"
    }
   ],
   "source": [
    "im::image testImage(\"images/test.png\");\n",
    "testImage"
   ]
  },
  {
   "cell_type": "code",
   "execution_count": 7,
   "metadata": {},
   "outputs": [
    {
     "name": "stdout",
     "output_type": "stream",
     "text": [
      "0.5\n",
      "0.841345\n",
      "0.97725\n"
     ]
    }
   ],
   "source": [
    "cout << MATH60082::normalDistribution(0.) << \"\\n\";\n",
    "cout << MATH60082::normalDistribution(1.) << \"\\n\";\n",
    "cout << MATH60082::normalDistribution(2.) << \"\\n\";"
   ]
  },
  {
   "cell_type": "code",
   "execution_count": 8,
   "metadata": {},
   "outputs": [],
   "source": [
    "// declare and initialise Black Scholes parameters\n",
    "double S0,X,T,r,sigma;\n",
    "// declare and initialise grid paramaters \n",
    "int iMax,jMax;\n",
    "// declare and initialise local variables (ds,dt)\n",
    "double SMax;"
   ]
  },
  {
   "cell_type": "code",
   "execution_count": 9,
   "metadata": {},
   "outputs": [
    {
     "name": "stdout",
     "output_type": "stream",
     "text": [
      " n    | V_cn     | V_exact  | error | CPU (time) \n",
      "20 | 0.134715 | 0.136688 | -0.00197309 | 0\n",
      "40 | 0.148865 | 0.136688 | 0.0121772 | 0\n",
      "80 | 0.15086 | 0.136688 | 0.0141719 | 0.001\n",
      "160 | 0.150045 | 0.136688 | 0.0133566 | 0.005\n",
      "320 | 0.150447 | 0.136688 | 0.013759 | 0.017\n",
      "640 | 0.150541 | 0.136688 | 0.0138525 | 0.059\n",
      "1280 | 0.150561 | 0.136688 | 0.0138723 | 0.194\n"
     ]
    }
   ],
   "source": [
    "// initialise Black Scholes parameters\n",
    "S0=1.936;X=2.;T=1.;r=0.05;sigma=0.2;\n",
    "cout << \" n    | V_cn     | V_exact  | error | CPU (time) \\n\";\n",
    "for(int k=1;k<=7;k++)\n",
    "{\n",
    "    int n=10*pow(2,k);\n",
    "    iMax = n;\n",
    "    jMax = n;\n",
    "    \n",
    "    double value_exact = MATH60082::europeanPut_exact(S0,X,T,r,sigma);\n",
    "    auto start = chrono::system_clock::now();\n",
    "    double value_cn = MATH60082::americanPut_CN(S0,X,T,r,sigma,iMax,jMax,5*X,1.4,1.e-10,10000);\n",
    "    auto end = chrono::system_clock::now();\n",
    "    auto elapsed = chrono::duration_cast<chrono::milliseconds>(end - start);\n",
    "  \n",
    "    cout << n << \" | \" << value_cn;\n",
    "    cout << \" | \" << value_exact << \" | \" ;\n",
    "    cout << value_cn - value_exact << \" | \" ;\n",
    "    cout << elapsed.count()/1000.<< \"\\n\";\n",
    "}"
   ]
  },
  {
   "cell_type": "code",
   "execution_count": 10,
   "metadata": {},
   "outputs": [
    {
     "name": "stdout",
     "output_type": "stream",
     "text": [
      "x = { 1 1.75 2.25 2.25 } after 50 iterations.\n"
     ]
    }
   ],
   "source": [
    "{\n",
    "    // declare vector to store matrix A\n",
    "vector<double> a = { 0.,-1,-1,-1};\n",
    "vector<double> b = { 1.,2,2,1};\n",
    "vector<double> c = { 0.,-1,-1,0.};\n",
    "// declare vector for the rhs v and solution x \n",
    "vector<double> rhs = {1.,0.25,0.5,0.};\n",
    "vector<double> x;\n",
    "// reset initial guess for x\n",
    "x = {0.,0.,0.,0.};\n",
    "int sor;\n",
    "// iterMax=50, tol=1.e-6, omega = 1\n",
    "MATH60082::sorSolve(a,b,c,rhs,x,50,1.e-6,1.,sor);\n",
    "cout << \"x = { \";\n",
    "for(auto xi : x)cout << xi << \" \";\n",
    "cout << \"} after \" << sor+1 << \" iterations.\\n\";\n",
    "}"
   ]
  },
  {
   "cell_type": "code",
   "execution_count": 11,
   "metadata": {},
   "outputs": [],
   "source": [
    "double sqr(double a)\n",
    "{\n",
    "    return a * a;\n",
    "}"
   ]
  },
  {
   "cell_type": "code",
   "execution_count": 12,
   "metadata": {},
   "outputs": [],
   "source": [
    ".> out.txt"
   ]
  },
  {
   "cell_type": "code",
   "execution_count": 13,
   "metadata": {
    "scrolled": false
   },
   "outputs": [
    {
     "data": {
      "text/plain": [
       "6.25"
      ]
     },
     "execution_count": 13,
     "metadata": {},
     "output_type": "execute_result"
    }
   ],
   "source": [
    "double a = 2.5;\n",
    "double asqr = sqr(a);\n",
    "asqr"
   ]
  },
  {
   "cell_type": "code",
   "execution_count": 15,
   "metadata": {},
   "outputs": [
    {
     "name": "stderr",
     "output_type": "stream",
     "text": [
      "No documentation found for \n"
     ]
    }
   ],
   "source": [
    "?"
   ]
  },
  {
   "cell_type": "code",
   "execution_count": null,
   "metadata": {},
   "outputs": [],
   "source": []
  }
 ],
 "metadata": {
  "kernelspec": {
   "display_name": "C++14",
   "language": "C++14",
   "name": "xeus-cling-cpp14"
  },
  "language_info": {
   "codemirror_mode": "text/x-c++src",
   "file_extension": ".cpp",
   "mimetype": "text/x-c++src",
   "name": "c++",
   "version": "14"
  }
 },
 "nbformat": 4,
 "nbformat_minor": 2
}
